{
 "cells": [
  {
   "cell_type": "markdown",
   "metadata": {},
   "source": [
    "## FEATURE ENGINEERING -> HOG FEATURE DESCRIPTOR"
   ]
  },
  {
   "cell_type": "markdown",
   "metadata": {},
   "source": [
    "HOG -> HISTORGRAM of ORIENTED GRADIENTS"
   ]
  },
  {
   "cell_type": "code",
   "execution_count": 2,
   "metadata": {},
   "outputs": [],
   "source": [
    "from keras.datasets import cifar10\n",
    "from sklearn.metrics import accuracy_score,confusion_matrix,classification_report\n",
    "import cv2\n",
    "import pickle"
   ]
  },
  {
   "cell_type": "code",
   "execution_count": 3,
   "metadata": {},
   "outputs": [],
   "source": [
    "from matplotlib import pyplot as plt\n",
    "import numpy as np\n",
    "import time"
   ]
  },
  {
   "cell_type": "code",
   "execution_count": 4,
   "metadata": {},
   "outputs": [],
   "source": [
    "classLabel = [\"airplane\",\"automobile\",\"bird\",\"cat\",\"deer\",\"dog\",\"frog\",\"horse\",\"ship\",\"truck\"]\n",
    "(X_train,y_train),(X_test,y_test) = cifar10.load_data()"
   ]
  },
  {
   "cell_type": "code",
   "execution_count": 5,
   "metadata": {},
   "outputs": [],
   "source": [
    "# since every value in image is ranging from 0 to 255, need to normalize the data to uniform range of 0-1 , diving by 255\n",
    "X_train = X_train/255\n",
    "X_test = X_test/255"
   ]
  },
  {
   "cell_type": "code",
   "execution_count": 6,
   "metadata": {},
   "outputs": [
    {
     "data": {
      "text/plain": [
       "(50000, 32, 32, 3)"
      ]
     },
     "execution_count": 6,
     "metadata": {},
     "output_type": "execute_result"
    }
   ],
   "source": [
    "X_train.shape"
   ]
  },
  {
   "cell_type": "code",
   "execution_count": 7,
   "metadata": {},
   "outputs": [
    {
     "name": "stdout",
     "output_type": "stream",
     "text": [
      "(50000, 3072)\n",
      "(10000, 3072)\n"
     ]
    }
   ],
   "source": [
    "X_train1 = X_train.reshape((len(X_train),-1))\n",
    "print(X_train1.shape)\n",
    "X_test1 = X_test.reshape((len(X_test),-1))\n",
    "print(X_test1.shape)"
   ]
  },
  {
   "cell_type": "code",
   "execution_count": 8,
   "metadata": {},
   "outputs": [
    {
     "name": "stdout",
     "output_type": "stream",
     "text": [
      "(50000,)\n",
      "(10000,)\n"
     ]
    }
   ],
   "source": [
    "y_train1 = y_train.flatten()\n",
    "print(y_train1.shape)\n",
    "y_test1 = y_test.flatten()\n",
    "print(y_test1.shape)"
   ]
  },
  {
   "cell_type": "code",
   "execution_count": 9,
   "metadata": {},
   "outputs": [],
   "source": [
    "import random\n",
    "import matplotlib.pyplot as plt\n",
    "from skimage.feature import hog\n",
    "from skimage import data, exposure"
   ]
  },
  {
   "cell_type": "markdown",
   "metadata": {},
   "source": [
    "### HOG IMAGE VISUALIZATION"
   ]
  },
  {
   "cell_type": "code",
   "execution_count": 19,
   "metadata": {},
   "outputs": [
    {
     "data": {
      "image/png": "[encoded data removed]",
      "text/plain": [
       "<Figure size 432x432 with 2 Axes>"
      ]
     },
     "metadata": {
      "needs_background": "light"
     },
     "output_type": "display_data"
    }
   ],
   "source": [
    "rnd = random.randint(0, 49999)\n",
    "img = X_train[rnd]\n",
    "label = y_train[rnd][0]\n",
    "\n",
    "fd, hog_img = hog(img, orientations=9, pixels_per_cell=(8, 8),\n",
    "                  cells_per_block=(2, 2), visualize=True, multichannel = True)\n",
    "fig,ax = plt.subplots(nrows=1,ncols=2, figsize=(6, 6), sharex=True, sharey=True)\n",
    "ax[0].axis('off')\n",
    "ax[0].imshow(img)\n",
    "ax[0].set_title(classLabel[label])\n",
    "    \n",
    "ax[1].axis('off')\n",
    "ax[1].imshow(hog_img)\n",
    "ax[1].set_title('HOG image')\n",
    "plt.show()"
   ]
  },
  {
   "cell_type": "code",
   "execution_count": 23,
   "metadata": {},
   "outputs": [],
   "source": [
    "X_train_hog = []\n",
    "for i in range(len(X_train)):\n",
    "    fd , hog_im = hog(X_train[i] , orientations=9 , pixels_per_cell = (8,8),\n",
    "                     cells_per_block = (2,2) , visualize = True ,  multichannel = True)\n",
    "    X_train_hog.append(fd)"
   ]
  },
  {
   "cell_type": "code",
   "execution_count": 25,
   "metadata": {},
   "outputs": [],
   "source": [
    "X_train_hog = np.array(X_train_hog)"
   ]
  },
  {
   "cell_type": "code",
   "execution_count": 26,
   "metadata": {},
   "outputs": [
    {
     "data": {
      "text/plain": [
       "(50000, 324)"
      ]
     },
     "execution_count": 26,
     "metadata": {},
     "output_type": "execute_result"
    }
   ],
   "source": [
    "X_train_hog.shape   # no. of features reduced to 324"
   ]
  },
  {
   "cell_type": "code",
   "execution_count": 27,
   "metadata": {},
   "outputs": [],
   "source": [
    "X_test_hog = []\n",
    "for i in range(len(X_test)):\n",
    "    fd , hog_im = hog(X_test[i] , orientations=9 , pixels_per_cell = (8,8),\n",
    "                     cells_per_block = (2,2) , visualize = True ,  multichannel = True)\n",
    "    X_test_hog.append(fd)"
   ]
  },
  {
   "cell_type": "code",
   "execution_count": 28,
   "metadata": {},
   "outputs": [],
   "source": [
    "X_test_hog = np.array(X_test_hog)"
   ]
  },
  {
   "cell_type": "code",
   "execution_count": 29,
   "metadata": {},
   "outputs": [
    {
     "data": {
      "text/plain": [
       "(10000, 324)"
      ]
     },
     "execution_count": 29,
     "metadata": {},
     "output_type": "execute_result"
    }
   ],
   "source": [
    "X_test_hog.shape"
   ]
  },
  {
   "cell_type": "markdown",
   "metadata": {},
   "source": [
    "### SVM"
   ]
  },
  {
   "cell_type": "code",
   "execution_count": null,
   "metadata": {},
   "outputs": [],
   "source": [
    "from sklearn.svm import SVC\n",
    "\n",
    "svc = SVC(kernel=\"rbf\")\n",
    "svc.fit(X_train_hog,y_train1)"
   ]
  },
  {
   "cell_type": "code",
   "execution_count": 30,
   "metadata": {},
   "outputs": [],
   "source": [
    "with open(\"SVC_HOG.pkl\",\"rb\") as f:\n",
    "    svc_hog = pickle.load(f)"
   ]
  },
  {
   "cell_type": "code",
   "execution_count": 31,
   "metadata": {},
   "outputs": [
    {
     "data": {
      "text/plain": [
       "SVC()"
      ]
     },
     "execution_count": 31,
     "metadata": {},
     "output_type": "execute_result"
    }
   ],
   "source": [
    "svc_hog"
   ]
  },
  {
   "cell_type": "code",
   "execution_count": 34,
   "metadata": {},
   "outputs": [],
   "source": [
    "svc_pred = svc_hog.predict(X_test_hog)"
   ]
  },
  {
   "cell_type": "code",
   "execution_count": 36,
   "metadata": {},
   "outputs": [
    {
     "name": "stdout",
     "output_type": "stream",
     "text": [
      "Accuracy Score : 0.6443\n",
      "Confusion Matrix\n",
      " [[730  24  85  37  31  22  21  21  97  30]\n",
      " [ 18 782  12  25  11   8  20   5  64  69]\n",
      " [ 64   9 498  76  69  59  40  46  22  16]\n",
      " [ 22  13  72 438  70 157  57  64  11  20]\n",
      " [ 32  19 110  84 623  78  47  75  20  20]\n",
      " [  9   4  87 171  55 518  50  72   3  19]\n",
      " [ 13  22  70  83  55  61 732  12   6  11]\n",
      " [  7   5  32  45  58  68  10 665  16  20]\n",
      " [ 88  49  23   9  10  11  14   9 708  46]\n",
      " [ 17  73  11  32  18  18   9  31  53 749]]\n",
      "Classification Report \n",
      "               precision    recall  f1-score   support\n",
      "\n",
      "           0       0.73      0.66      0.70      1098\n",
      "           1       0.78      0.77      0.78      1014\n",
      "           2       0.50      0.55      0.52       899\n",
      "           3       0.44      0.47      0.46       924\n",
      "           4       0.62      0.56      0.59      1108\n",
      "           5       0.52      0.52      0.52       988\n",
      "           6       0.73      0.69      0.71      1065\n",
      "           7       0.67      0.72      0.69       926\n",
      "           8       0.71      0.73      0.72       967\n",
      "           9       0.75      0.74      0.74      1011\n",
      "\n",
      "    accuracy                           0.64     10000\n",
      "   macro avg       0.64      0.64      0.64     10000\n",
      "weighted avg       0.65      0.64      0.65     10000\n",
      "\n"
     ]
    }
   ],
   "source": [
    "acc21 = accuracy_score(svc_pred,y_test1)\n",
    "print(\"Accuracy Score :\",accuracy_score(svc_pred,y_test1))\n",
    "print(\"Confusion Matrix\\n\",confusion_matrix(svc_pred,y_test1))\n",
    "print(\"Classification Report \\n\",classification_report(svc_pred,y_test1))"
   ]
  },
  {
   "cell_type": "markdown",
   "metadata": {},
   "source": [
    "### RandomForestClassifier"
   ]
  },
  {
   "cell_type": "code",
   "execution_count": 37,
   "metadata": {},
   "outputs": [
    {
     "data": {
      "text/plain": [
       "RandomForestClassifier()"
      ]
     },
     "execution_count": 37,
     "metadata": {},
     "output_type": "execute_result"
    }
   ],
   "source": [
    "from sklearn.ensemble import RandomForestClassifier\n",
    "\n",
    "rfc = RandomForestClassifier()\n",
    "rfc.fit(X_train_hog,y_train1)"
   ]
  },
  {
   "cell_type": "code",
   "execution_count": 40,
   "metadata": {},
   "outputs": [],
   "source": [
    "with open(\"rfc_hog.pkl\",\"wb\") as f:\n",
    "    pickle.dump(rfc,f)"
   ]
  },
  {
   "cell_type": "code",
   "execution_count": 38,
   "metadata": {},
   "outputs": [],
   "source": [
    "rfc_pred = rfc.predict(X_test_hog)"
   ]
  },
  {
   "cell_type": "code",
   "execution_count": 39,
   "metadata": {},
   "outputs": [
    {
     "name": "stdout",
     "output_type": "stream",
     "text": [
      "Accuracy Score (Random Forest Classifier): 0.5258\n",
      "Confusion Matrix (Random Forest Classifier)\n",
      " [[606  34  83  40  34  14  21  22  98  37]\n",
      " [ 34 695  34  46  39  19  45  21 121 126]\n",
      " [ 91   8 362  68  47  71  41  52  26  17]\n",
      " [ 24  13  88 271  73 164  41  62  12  23]\n",
      " [ 44  24 114  99 474  84  59  76  17  38]\n",
      " [ 15   9 125 214  75 424  80 114  11  23]\n",
      " [ 19  45 105 135 133 105 669  38  12  26]\n",
      " [ 10   8  43  50  78  74  13 545  19  35]\n",
      " [128  77  28  23  21  13  12  19 592  55]\n",
      " [ 29  87  18  54  26  32  19  51  92 620]]\n",
      "Classification Report (Random Forest Classifier)\n",
      "               precision    recall  f1-score   support\n",
      "\n",
      "           0       0.61      0.61      0.61       989\n",
      "           1       0.69      0.59      0.64      1180\n",
      "           2       0.36      0.46      0.41       783\n",
      "           3       0.27      0.35      0.31       771\n",
      "           4       0.47      0.46      0.47      1029\n",
      "           5       0.42      0.39      0.41      1090\n",
      "           6       0.67      0.52      0.59      1287\n",
      "           7       0.55      0.62      0.58       875\n",
      "           8       0.59      0.61      0.60       968\n",
      "           9       0.62      0.60      0.61      1028\n",
      "\n",
      "    accuracy                           0.53     10000\n",
      "   macro avg       0.53      0.52      0.52     10000\n",
      "weighted avg       0.54      0.53      0.53     10000\n",
      "\n"
     ]
    }
   ],
   "source": [
    "acc22 = accuracy_score(rfc_pred,y_test1)\n",
    "print(\"Accuracy Score (Random Forest Classifier):\",accuracy_score(rfc_pred,y_test1))\n",
    "print(\"Confusion Matrix (Random Forest Classifier)\\n\",confusion_matrix(rfc_pred,y_test1))\n",
    "print(\"Classification Report (Random Forest Classifier)\\n\",classification_report(rfc_pred,y_test1))"
   ]
  },
  {
   "cell_type": "markdown",
   "metadata": {},
   "source": [
    "### MULTI-LAYER PERCEPTRON"
   ]
  },
  {
   "cell_type": "code",
   "execution_count": 41,
   "metadata": {},
   "outputs": [
    {
     "name": "stdout",
     "output_type": "stream",
     "text": [
      "Iteration 1, loss = 1.69176458\n",
      "Iteration 2, loss = 1.40465351\n",
      "Iteration 3, loss = 1.31789747\n",
      "Iteration 4, loss = 1.25528912\n",
      "Iteration 5, loss = 1.21540896\n",
      "Iteration 6, loss = 1.17768595\n",
      "Iteration 7, loss = 1.14809633\n",
      "Iteration 8, loss = 1.12172480\n",
      "Iteration 9, loss = 1.09962750\n",
      "Iteration 10, loss = 1.07558034\n",
      "Iteration 11, loss = 1.05441183\n",
      "Iteration 12, loss = 1.03255513\n",
      "Iteration 13, loss = 1.01489622\n",
      "Iteration 14, loss = 1.00021210\n",
      "Iteration 15, loss = 0.98324091\n",
      "Iteration 16, loss = 0.97137755\n",
      "Iteration 17, loss = 0.95324490\n",
      "Iteration 18, loss = 0.94037688\n",
      "Iteration 19, loss = 0.92776327\n",
      "Iteration 20, loss = 0.91390555\n",
      "Iteration 21, loss = 0.90101415\n",
      "Iteration 22, loss = 0.89087504\n",
      "Iteration 23, loss = 0.88132688\n",
      "Iteration 24, loss = 0.86965894\n",
      "Iteration 25, loss = 0.86326329\n",
      "Iteration 26, loss = 0.85057169\n",
      "Iteration 27, loss = 0.83643081\n",
      "Iteration 28, loss = 0.82847483\n",
      "Iteration 29, loss = 0.82813356\n",
      "Iteration 30, loss = 0.81096693\n",
      "Iteration 31, loss = 0.80320545\n",
      "Iteration 32, loss = 0.79458189\n",
      "Iteration 33, loss = 0.78404571\n",
      "Iteration 34, loss = 0.77363412\n",
      "Iteration 35, loss = 0.76761159\n",
      "Iteration 36, loss = 0.75834777\n",
      "Iteration 37, loss = 0.75281243\n",
      "Iteration 38, loss = 0.74507021\n",
      "Iteration 39, loss = 0.73648933\n",
      "Iteration 40, loss = 0.72861658\n",
      "Iteration 41, loss = 0.71932529\n",
      "Iteration 42, loss = 0.71303980\n",
      "Iteration 43, loss = 0.70560953\n",
      "Iteration 44, loss = 0.69463352\n",
      "Iteration 45, loss = 0.68948313\n",
      "Iteration 46, loss = 0.67973566\n",
      "Iteration 47, loss = 0.67717335\n",
      "Iteration 48, loss = 0.66738754\n",
      "Iteration 49, loss = 0.66403455\n",
      "Iteration 50, loss = 0.66157004\n",
      "Iteration 51, loss = 0.64734979\n",
      "Iteration 52, loss = 0.64171941\n",
      "Iteration 53, loss = 0.63769077\n",
      "Iteration 54, loss = 0.63348282\n",
      "Iteration 55, loss = 0.61887357\n",
      "Iteration 56, loss = 0.61477599\n",
      "Iteration 57, loss = 0.61711446\n",
      "Iteration 58, loss = 0.59972155\n",
      "Iteration 59, loss = 0.59986914\n",
      "Iteration 60, loss = 0.59641411\n",
      "Iteration 61, loss = 0.58438169\n",
      "Iteration 62, loss = 0.58201194\n",
      "Iteration 63, loss = 0.57315942\n",
      "Iteration 64, loss = 0.57469665\n",
      "Iteration 65, loss = 0.56673302\n",
      "Iteration 66, loss = 0.55996540\n",
      "Iteration 67, loss = 0.55304587\n",
      "Iteration 68, loss = 0.54639277\n",
      "Iteration 69, loss = 0.54587624\n",
      "Iteration 70, loss = 0.53527334\n",
      "Iteration 71, loss = 0.53548029\n",
      "Iteration 72, loss = 0.53414028\n",
      "Iteration 73, loss = 0.52262918\n",
      "Iteration 74, loss = 0.51666295\n",
      "Iteration 75, loss = 0.51163184\n",
      "Iteration 76, loss = 0.51442040\n",
      "Iteration 77, loss = 0.50535243\n",
      "Iteration 78, loss = 0.50651441\n",
      "Iteration 79, loss = 0.50090838\n",
      "Iteration 80, loss = 0.48506558\n",
      "Iteration 81, loss = 0.48346411\n",
      "Iteration 82, loss = 0.48615638\n",
      "Iteration 83, loss = 0.47774137\n",
      "Iteration 84, loss = 0.47487755\n",
      "Iteration 85, loss = 0.47628689\n",
      "Iteration 86, loss = 0.46075049\n",
      "Iteration 87, loss = 0.46035622\n",
      "Iteration 88, loss = 0.45702648\n",
      "Iteration 89, loss = 0.45005958\n",
      "Iteration 90, loss = 0.44495680\n",
      "Iteration 91, loss = 0.44340817\n",
      "Iteration 92, loss = 0.43973494\n",
      "Iteration 93, loss = 0.44026612\n",
      "Iteration 94, loss = 0.43195626\n",
      "Iteration 95, loss = 0.43484914\n",
      "Iteration 96, loss = 0.42284407\n",
      "Iteration 97, loss = 0.41687304\n",
      "Iteration 98, loss = 0.42076419\n",
      "Iteration 99, loss = 0.41536892\n",
      "Iteration 100, loss = 0.40455754\n",
      "Iteration 101, loss = 0.40116341\n",
      "Iteration 102, loss = 0.40404378\n",
      "Iteration 103, loss = 0.40667692\n",
      "Iteration 104, loss = 0.39619325\n",
      "Iteration 105, loss = 0.39711680\n",
      "Iteration 106, loss = 0.38816698\n",
      "Iteration 107, loss = 0.38482613\n",
      "Iteration 108, loss = 0.37386738\n",
      "Iteration 109, loss = 0.37594658\n",
      "Iteration 110, loss = 0.37766750\n",
      "Iteration 111, loss = 0.36883183\n",
      "Iteration 112, loss = 0.36874826\n",
      "Iteration 113, loss = 0.36333849\n",
      "Iteration 114, loss = 0.36076763\n",
      "Iteration 115, loss = 0.36255894\n",
      "Iteration 116, loss = 0.35597489\n",
      "Iteration 117, loss = 0.34867324\n",
      "Iteration 118, loss = 0.34965855\n",
      "Iteration 119, loss = 0.34808060\n",
      "Iteration 120, loss = 0.34821932\n",
      "Iteration 121, loss = 0.33757907\n",
      "Iteration 122, loss = 0.33169183\n",
      "Iteration 123, loss = 0.32737172\n",
      "Iteration 124, loss = 0.32866463\n",
      "Iteration 125, loss = 0.31976493\n",
      "Iteration 126, loss = 0.32451523\n",
      "Iteration 127, loss = 0.32642226\n",
      "Iteration 128, loss = 0.32248899\n",
      "Iteration 129, loss = 0.31016845\n",
      "Iteration 130, loss = 0.31399949\n",
      "Iteration 131, loss = 0.30637153\n",
      "Iteration 132, loss = 0.32034916\n",
      "Iteration 133, loss = 0.30453525\n",
      "Iteration 134, loss = 0.29918558\n",
      "Iteration 135, loss = 0.30688678\n",
      "Iteration 136, loss = 0.30044107\n",
      "Iteration 137, loss = 0.30000450\n",
      "Iteration 138, loss = 0.28806649\n",
      "Iteration 139, loss = 0.30056805\n",
      "Iteration 140, loss = 0.28935330\n",
      "Iteration 141, loss = 0.28105995\n",
      "Iteration 142, loss = 0.28527549\n",
      "Iteration 143, loss = 0.27806051\n",
      "Iteration 144, loss = 0.28290495\n",
      "Iteration 145, loss = 0.27319487\n",
      "Iteration 146, loss = 0.28453458\n",
      "Iteration 147, loss = 0.27162861\n",
      "Iteration 148, loss = 0.27117395\n",
      "Iteration 149, loss = 0.25937762\n",
      "Iteration 150, loss = 0.26135522\n",
      "Iteration 151, loss = 0.26122923\n",
      "Iteration 152, loss = 0.26404547\n",
      "Iteration 153, loss = 0.25419670\n",
      "Iteration 154, loss = 0.25100598\n",
      "Iteration 155, loss = 0.27069239\n",
      "Iteration 156, loss = 0.25632825\n",
      "Iteration 157, loss = 0.24636704\n",
      "Iteration 158, loss = 0.25073088\n",
      "Iteration 159, loss = 0.24940320\n",
      "Iteration 160, loss = 0.23506685\n",
      "Iteration 161, loss = 0.24395614\n",
      "Iteration 162, loss = 0.25090915\n",
      "Iteration 163, loss = 0.23386802\n",
      "Iteration 164, loss = 0.23789971\n",
      "Iteration 165, loss = 0.23372749\n",
      "Iteration 166, loss = 0.23475508\n",
      "Iteration 167, loss = 0.23764946\n",
      "Iteration 168, loss = 0.22666577\n",
      "Iteration 169, loss = 0.22705957\n",
      "Iteration 170, loss = 0.22921835\n",
      "Iteration 171, loss = 0.21439331\n",
      "Iteration 172, loss = 0.22892208\n",
      "Iteration 173, loss = 0.21812974\n",
      "Iteration 174, loss = 0.20948115\n",
      "Iteration 175, loss = 0.21441587\n",
      "Iteration 176, loss = 0.21633883\n",
      "Iteration 177, loss = 0.21522302\n",
      "Iteration 178, loss = 0.20773897\n",
      "Iteration 179, loss = 0.21885642\n",
      "Iteration 180, loss = 0.21114433\n",
      "Iteration 181, loss = 0.21448863\n",
      "Iteration 182, loss = 0.20159999\n",
      "Iteration 183, loss = 0.20286072\n",
      "Iteration 184, loss = 0.20315464\n",
      "Iteration 185, loss = 0.21566936\n",
      "Iteration 186, loss = 0.18570455\n",
      "Iteration 187, loss = 0.20405956\n",
      "Iteration 188, loss = 0.18167178\n",
      "Iteration 189, loss = 0.20369970\n",
      "Iteration 190, loss = 0.19994769\n",
      "Iteration 191, loss = 0.20090220\n",
      "Iteration 192, loss = 0.18706966\n",
      "Iteration 193, loss = 0.19938106\n",
      "Iteration 194, loss = 0.18607323\n",
      "Iteration 195, loss = 0.18785350\n",
      "Iteration 196, loss = 0.17883590\n",
      "Iteration 197, loss = 0.18522812\n",
      "Iteration 198, loss = 0.19912005\n",
      "Iteration 199, loss = 0.19507897\n",
      "Iteration 200, loss = 0.18086360\n",
      "Iteration 201, loss = 0.17156541\n",
      "Iteration 202, loss = 0.16688138\n",
      "Iteration 203, loss = 0.17994183\n",
      "Iteration 204, loss = 0.18455714\n",
      "Iteration 205, loss = 0.17617756\n",
      "Iteration 206, loss = 0.17244592\n",
      "Iteration 207, loss = 0.17776234\n",
      "Iteration 208, loss = 0.15774052\n",
      "Iteration 209, loss = 0.18177699\n",
      "Iteration 210, loss = 0.17594799\n",
      "Iteration 211, loss = 0.16887158\n",
      "Iteration 212, loss = 0.16300890\n",
      "Iteration 213, loss = 0.15331374\n",
      "Iteration 214, loss = 0.16935564\n",
      "Iteration 215, loss = 0.17302458\n",
      "Iteration 216, loss = 0.17514024\n",
      "Iteration 217, loss = 0.15825227\n",
      "Iteration 218, loss = 0.16110652\n",
      "Iteration 219, loss = 0.14587365\n",
      "Iteration 220, loss = 0.14495035\n",
      "Iteration 221, loss = 0.18160594\n",
      "Iteration 222, loss = 0.14882686\n",
      "Iteration 223, loss = 0.17126453\n",
      "Iteration 224, loss = 0.16515983\n",
      "Iteration 225, loss = 0.16529499\n",
      "Iteration 226, loss = 0.14539426\n",
      "Iteration 227, loss = 0.14232624\n",
      "Iteration 228, loss = 0.14758250\n",
      "Iteration 229, loss = 0.16161033\n",
      "Iteration 230, loss = 0.14615635\n",
      "Iteration 231, loss = 0.13814359\n",
      "Iteration 232, loss = 0.13741606\n",
      "Iteration 233, loss = 0.17738060\n",
      "Iteration 234, loss = 0.14483813\n",
      "Iteration 235, loss = 0.15177042\n",
      "Iteration 236, loss = 0.13475892\n",
      "Iteration 237, loss = 0.13677736\n",
      "Iteration 238, loss = 0.14572390\n",
      "Iteration 239, loss = 0.14153713\n",
      "Iteration 240, loss = 0.13859739\n",
      "Iteration 241, loss = 0.14630150\n",
      "Iteration 242, loss = 0.15654550\n",
      "Iteration 243, loss = 0.13786511\n",
      "Iteration 244, loss = 0.12982344\n",
      "Iteration 245, loss = 0.12224699\n",
      "Iteration 246, loss = 0.15363769\n",
      "Iteration 247, loss = 0.13367953\n",
      "Iteration 248, loss = 0.13885660\n",
      "Iteration 249, loss = 0.14182970\n",
      "Iteration 250, loss = 0.14506982\n",
      "Iteration 251, loss = 0.13780688\n",
      "Iteration 252, loss = 0.11072763\n",
      "Iteration 253, loss = 0.13893071\n",
      "Iteration 254, loss = 0.12667528\n",
      "Iteration 255, loss = 0.13624337\n",
      "Iteration 256, loss = 0.13276977\n",
      "Iteration 257, loss = 0.14572628\n",
      "Iteration 258, loss = 0.13339355\n",
      "Iteration 259, loss = 0.12064981\n",
      "Iteration 260, loss = 0.11064360\n",
      "Iteration 261, loss = 0.13203537\n",
      "Iteration 262, loss = 0.12364538\n",
      "Iteration 263, loss = 0.12807826\n",
      "Training loss did not improve more than tol=0.000100 for 10 consecutive epochs. Stopping.\n"
     ]
    }
   ],
   "source": [
    "from sklearn.neural_network import MLPClassifier  \n",
    "MLP = MLPClassifier(hidden_layer_sizes=(150,100,50),activation=\"relu\",\n",
    "                    solver=\"adam\",learning_rate=\"constant\",learning_rate_init=0.001,\n",
    "                    max_iter=500,verbose=True)\n",
    "\n",
    "nn = MLP.fit(X_train_hog,y_train1)\n",
    "\n",
    "mlp_pred = MLP.predict(X_test_hog)"
   ]
  },
  {
   "cell_type": "code",
   "execution_count": 42,
   "metadata": {},
   "outputs": [],
   "source": [
    "with open(\"mlp_hog.pkl\",\"wb\") as f:\n",
    "    pickle.dump(MLP,f)"
   ]
  },
  {
   "cell_type": "code",
   "execution_count": 43,
   "metadata": {},
   "outputs": [
    {
     "name": "stdout",
     "output_type": "stream",
     "text": [
      "Accuracy Score (Multi Layer Perceptron): 0.5559\n",
      "Confusion Matrix (Multi Layer Perceptron)\n",
      " [[613  40  79  44  42  27  27  28 103  35]\n",
      " [ 36 718  14  28  18  11  24   8  71  87]\n",
      " [ 79   7 451  84 106  79  58  44  28  10]\n",
      " [ 28  14  64 278  58 161  62  63  14  26]\n",
      " [ 50  21 116 122 488  73  56  88  22  31]\n",
      " [ 17  11  94 212  79 427  56  95  19  30]\n",
      " [ 17  24  77 114  62  83 659  16  11  14]\n",
      " [ 15  10  45  52  94  99  24 610  15  37]\n",
      " [111  73  44  33  30  21  21  22 651  66]\n",
      " [ 34  82  16  33  23  19  13  26  66 664]]\n",
      "Classification Report (Multi Layer Perceptron)\n",
      "               precision    recall  f1-score   support\n",
      "\n",
      "           0       0.61      0.59      0.60      1038\n",
      "           1       0.72      0.71      0.71      1015\n",
      "           2       0.45      0.48      0.46       946\n",
      "           3       0.28      0.36      0.31       768\n",
      "           4       0.49      0.46      0.47      1067\n",
      "           5       0.43      0.41      0.42      1040\n",
      "           6       0.66      0.61      0.63      1077\n",
      "           7       0.61      0.61      0.61      1001\n",
      "           8       0.65      0.61      0.63      1072\n",
      "           9       0.66      0.68      0.67       976\n",
      "\n",
      "    accuracy                           0.56     10000\n",
      "   macro avg       0.56      0.55      0.55     10000\n",
      "weighted avg       0.56      0.56      0.56     10000\n",
      "\n"
     ]
    }
   ],
   "source": [
    "acc23 = accuracy_score(mlp_pred,y_test1)\n",
    "print(\"Accuracy Score (Multi Layer Perceptron):\",accuracy_score(mlp_pred,y_test1))\n",
    "print(\"Confusion Matrix (Multi Layer Perceptron)\\n\",confusion_matrix(mlp_pred,y_test1))\n",
    "print(\"Classification Report (Multi Layer Perceptron)\\n\",classification_report(mlp_pred,y_test1))"
   ]
  },
  {
   "cell_type": "markdown",
   "metadata": {},
   "source": [
    "## LOGISTIC REGRESSION"
   ]
  },
  {
   "cell_type": "code",
   "execution_count": 44,
   "metadata": {},
   "outputs": [
    {
     "name": "stderr",
     "output_type": "stream",
     "text": [
      "[Parallel(n_jobs=-1)]: Using backend ThreadingBackend with 8 concurrent workers.\n"
     ]
    },
    {
     "name": "stdout",
     "output_type": "stream",
     "text": [
      "convergence after 32 epochs took 16 seconds\n",
      "convergence after 35 epochs took 18 seconds\n",
      "convergence after 35 epochs took 18 seconds\n",
      "convergence after 36 epochs took 18 seconds\n",
      "convergence after 31 epochs took 18 seconds\n",
      "convergence after 35 epochs took 20 seconds\n"
     ]
    },
    {
     "name": "stderr",
     "output_type": "stream",
     "text": [
      "[Parallel(n_jobs=-1)]: Done   6 out of  10 | elapsed:   20.5s remaining:   13.6s\n"
     ]
    },
    {
     "name": "stdout",
     "output_type": "stream",
     "text": [
      "convergence after 37 epochs took 21 seconds\n",
      "convergence after 38 epochs took 22 seconds\n",
      "convergence after 29 epochs took 12 seconds\n",
      "convergence after 33 epochs took 11 seconds\n"
     ]
    },
    {
     "name": "stderr",
     "output_type": "stream",
     "text": [
      "[Parallel(n_jobs=-1)]: Done  10 out of  10 | elapsed:   29.5s finished\n"
     ]
    }
   ],
   "source": [
    "from sklearn.linear_model import LogisticRegression\n",
    "LR = LogisticRegression(solver=\"sag\",multi_class=\"ovr\",verbose=1,n_jobs=-1) # one vs rest (ovr) , n_jobs = -1 (computation across cpu)\n",
    "model = LR.fit(X_train_hog,y_train1)\n",
    "\n",
    "lr_pred = LR.predict(X_test_hog)"
   ]
  },
  {
   "cell_type": "code",
   "execution_count": 45,
   "metadata": {},
   "outputs": [],
   "source": [
    "with open(\"logr_hog.pkl\",\"wb\") as f:\n",
    "    pickle.dump(LR,f)"
   ]
  },
  {
   "cell_type": "code",
   "execution_count": 46,
   "metadata": {},
   "outputs": [
    {
     "name": "stdout",
     "output_type": "stream",
     "text": [
      "Accuracy Score (Logistic Regression): 0.5406\n",
      "Confusion matrix (Logistic Regression):\n",
      " [[622  38  76  49  32  16  18  27 120  40]\n",
      " [ 34 652  20  43  28  21  36  18  95  95]\n",
      " [ 72  15 402  77  41  83  41  65  33  16]\n",
      " [ 17  16  69 308  76 143  58  43   9  21]\n",
      " [ 44  26 120 102 496  70  72  87  23  23]\n",
      " [  9   3 111 155  55 401  60  75   7  21]\n",
      " [ 28  54  98 141 111 114 650  32  12  12]\n",
      " [ 27  25  52  63  95 102  27 597  22  41]\n",
      " [118  80  39  18  33  18  22  13 602  55]\n",
      " [ 29  91  13  44  33  32  16  43  77 676]]\n",
      "Classification Report (Logistic Regression)\n",
      "               precision    recall  f1-score   support\n",
      "\n",
      "           0       0.62      0.60      0.61      1038\n",
      "           1       0.65      0.63      0.64      1042\n",
      "           2       0.40      0.48      0.44       845\n",
      "           3       0.31      0.41      0.35       760\n",
      "           4       0.50      0.47      0.48      1063\n",
      "           5       0.40      0.45      0.42       897\n",
      "           6       0.65      0.52      0.58      1252\n",
      "           7       0.60      0.57      0.58      1051\n",
      "           8       0.60      0.60      0.60       998\n",
      "           9       0.68      0.64      0.66      1054\n",
      "\n",
      "    accuracy                           0.54     10000\n",
      "   macro avg       0.54      0.54      0.54     10000\n",
      "weighted avg       0.55      0.54      0.55     10000\n",
      "\n"
     ]
    }
   ],
   "source": [
    "acc24 = accuracy_score(lr_pred,y_test1)\n",
    "print(\"Accuracy Score (Logistic Regression):\",accuracy_score(lr_pred,y_test1))\n",
    "print(\"Confusion matrix (Logistic Regression):\\n\",confusion_matrix(lr_pred,y_test1))\n",
    "print(\"Classification Report (Logistic Regression)\\n\",classification_report(lr_pred,y_test1))"
   ]
  },
  {
   "cell_type": "markdown",
   "metadata": {},
   "source": [
    "## XGBOOST"
   ]
  },
  {
   "cell_type": "code",
   "execution_count": 47,
   "metadata": {},
   "outputs": [],
   "source": [
    "import xgboost as xgb\n",
    "XGB = xgb.XGBClassifier(gamma=0.5, learning_rate=0.1, max_delta_step=0.1, \n",
    "                        max_depth=10, min_child_weight=1, n_estimators=100, \n",
    "                        nthread=4, objective='multi:logistic', reg_alpha=0.5, \n",
    "                        reg_lambda=0.8,subsample=0.8,verbosity=1)\n",
    "XGB.fit(X_train_hog,y_train1,verbose=1)\n",
    "xgb_pred = XGB.predict(X_test_hog)"
   ]
  },
  {
   "cell_type": "code",
   "execution_count": 48,
   "metadata": {},
   "outputs": [],
   "source": [
    "with open(\"xgb_hog.pkl\",\"wb\") as f:\n",
    "    pickle.dump(XGB,f)"
   ]
  },
  {
   "cell_type": "code",
   "execution_count": 49,
   "metadata": {},
   "outputs": [
    {
     "name": "stdout",
     "output_type": "stream",
     "text": [
      "Accuracy Score (XGBoost-HOG): 0.4944\n",
      "Confusion matrix (XGBoost-HOG):\n",
      " [[625  43 105  45  45  15  29  39 153  67]\n",
      " [ 43 639  32  49  43  23  43  36 113 130]\n",
      " [ 92  13 392  92  72  63  45  64  30  30]\n",
      " [ 17  12  77 315  88 178  60  70  14  31]\n",
      " [ 22  12 116  76 401  70 108  76  15  23]\n",
      " [ 12  11 118 189  72 403  93  94   7  32]\n",
      " [ 13  52  63 123 108 116 562  47  17  24]\n",
      " [ 20  15  49  45 106  98  20 510  22  46]\n",
      " [133 110  29  25  30  12  17  23 549  69]\n",
      " [ 23  93  19  41  35  22  23  41  80 548]]\n",
      "Classification Report (XGBoost-HOG)\n",
      "               precision    recall  f1-score   support\n",
      "\n",
      "           0       0.62      0.54      0.58      1166\n",
      "           1       0.64      0.56      0.59      1151\n",
      "           2       0.39      0.44      0.41       893\n",
      "           3       0.32      0.37      0.34       862\n",
      "           4       0.40      0.44      0.42       919\n",
      "           5       0.40      0.39      0.40      1031\n",
      "           6       0.56      0.50      0.53      1125\n",
      "           7       0.51      0.55      0.53       931\n",
      "           8       0.55      0.55      0.55       997\n",
      "           9       0.55      0.59      0.57       925\n",
      "\n",
      "    accuracy                           0.49     10000\n",
      "   macro avg       0.49      0.49      0.49     10000\n",
      "weighted avg       0.50      0.49      0.50     10000\n",
      "\n"
     ]
    }
   ],
   "source": [
    "acc25 = accuracy_score(xgb_pred,y_test1)\n",
    "print(\"Accuracy Score (XGBoost-HOG):\",accuracy_score(xgb_pred,y_test1))\n",
    "print(\"Confusion matrix (XGBoost-HOG):\\n\",confusion_matrix(xgb_pred,y_test1))\n",
    "print(\"Classification Report (XGBoost-HOG)\\n\",classification_report(xgb_pred,y_test1))"
   ]
  },
  {
   "cell_type": "code",
   "execution_count": 51,
   "metadata": {},
   "outputs": [],
   "source": [
    "models = [\"Support Vector\\nClassifier\",\"Random Forest\\nClassifier\",\"Multi-Layer\\nPerceptron\",\"Logistic\\nRegression\",\"XG Boost\"]\n",
    "with open(\"model2.pkl\",\"wb\") as f:\n",
    "    pickle.dump(models,f)"
   ]
  },
  {
   "cell_type": "code",
   "execution_count": null,
   "metadata": {},
   "outputs": [],
   "source": [
    "accuracy = [acc21,acc22,acc23,acc24,acc25]\n",
    "with open(\"accuracy_hog.pkl\",\"wb\") as f:\n",
    "    pickle.dump(accuracy,f)"
   ]
  }
 ],
 "metadata": {
  "kernelspec": {
   "display_name": "Python 3.9.7 ('base')",
   "language": "python",
   "name": "python3"
  },
  "language_info": {
   "codemirror_mode": {
    "name": "ipython",
    "version": 3
   },
   "file_extension": ".py",
   "mimetype": "text/x-python",
   "name": "python",
   "nbconvert_exporter": "python",
   "pygments_lexer": "ipython3",
   "version": "3.9.7"
  },
  "orig_nbformat": 4,
  "vscode": {
   "interpreter": {
    "hash": "245b9fdd41826652eab311a2b791c6ecb0e15947c319e7e2516aa9c02c583d40"
   }
  }
 },
 "nbformat": 4,
 "nbformat_minor": 2
}
