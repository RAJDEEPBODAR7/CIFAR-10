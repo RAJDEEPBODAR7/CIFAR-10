{
 "cells": [
  {
   "cell_type": "markdown",
   "metadata": {},
   "source": [
    "# PRINCIPAL COMPONENT ANALYSIS (PCA) for Dimensionality Reduction -> Feature Extraction"
   ]
  },
  {
   "cell_type": "code",
   "execution_count": 4,
   "metadata": {},
   "outputs": [],
   "source": [
    "from keras.datasets import cifar10\n",
    "from sklearn.metrics import accuracy_score,confusion_matrix,classification_report\n",
    "from sklearn.model_selection import GridSearchCV\n",
    "import cv2\n",
    "import pickle"
   ]
  },
  {
   "cell_type": "code",
   "execution_count": 5,
   "metadata": {},
   "outputs": [],
   "source": [
    "from matplotlib import pyplot as plt\n",
    "import numpy as np\n",
    "import time"
   ]
  },
  {
   "cell_type": "code",
   "execution_count": 6,
   "metadata": {},
   "outputs": [],
   "source": [
    "classLabel = [\"airplane\",\"automobile\",\"bird\",\"cat\",\"deer\",\"dog\",\"frog\",\"horse\",\"ship\",\"truck\"]\n",
    "(X_train,y_train),(X_test,y_test) = cifar10.load_data()"
   ]
  },
  {
   "cell_type": "code",
   "execution_count": 7,
   "metadata": {},
   "outputs": [],
   "source": [
    "# since every value in image is ranging from 0 to 255, need to normalize the data to uniform range of 0-1 , diving by 255\n",
    "X_train = X_train/255\n",
    "X_test = X_test/255"
   ]
  },
  {
   "cell_type": "code",
   "execution_count": 8,
   "metadata": {},
   "outputs": [
    {
     "name": "stdout",
     "output_type": "stream",
     "text": [
      "(50000, 3072)\n",
      "(10000, 3072)\n"
     ]
    }
   ],
   "source": [
    "X_train1 = X_train.reshape((len(X_train),-1))\n",
    "print(X_train1.shape)\n",
    "X_test1 = X_test.reshape((len(X_test),-1))\n",
    "print(X_test1.shape)"
   ]
  },
  {
   "cell_type": "code",
   "execution_count": 9,
   "metadata": {},
   "outputs": [
    {
     "name": "stdout",
     "output_type": "stream",
     "text": [
      "(50000,)\n",
      "(10000,)\n"
     ]
    }
   ],
   "source": [
    "y_train1 = y_train.flatten()\n",
    "print(y_train1.shape)\n",
    "y_test1 = y_test.flatten()\n",
    "print(y_test1.shape)"
   ]
  },
  {
   "cell_type": "code",
   "execution_count": 2,
   "metadata": {},
   "outputs": [],
   "source": [
    "from sklearn.decomposition import PCA"
   ]
  },
  {
   "cell_type": "code",
   "execution_count": 10,
   "metadata": {},
   "outputs": [],
   "source": [
    "pca = PCA().fit(X_train1)"
   ]
  },
  {
   "cell_type": "code",
   "execution_count": 11,
   "metadata": {},
   "outputs": [
    {
     "data": {
      "image/png": "[encoded data removed]",
      "text/plain": [
       "<Figure size 432x288 with 1 Axes>"
      ]
     },
     "metadata": {
      "needs_background": "light"
     },
     "output_type": "display_data"
    }
   ],
   "source": [
    "# visualizing variance\n",
    "plt.plot(np.cumsum(pca.explained_variance_ratio_))\n",
    "plt.xlabel(\"Features\")\n",
    "plt.ylabel(\"Variance (%)\")\n",
    "plt.title(\"CIFAR-10\")\n",
    "plt.show()"
   ]
  },
  {
   "cell_type": "code",
   "execution_count": 12,
   "metadata": {},
   "outputs": [],
   "source": [
    "# out of 3072 -> 500 features are important as they retain almost 95% of the data \n",
    "pca = PCA(n_components=500)\n",
    "pca.fit(X_train1)\n",
    "\n",
    "with open(\"pca.pkl\",\"wb\") as f:\n",
    "    pickle.dump(pca,f)\n",
    "\n",
    "X_train1_pca = pca.transform(X_train1)\n",
    "X_test1_pca = pca.transform(X_test1)"
   ]
  },
  {
   "cell_type": "code",
   "execution_count": 17,
   "metadata": {},
   "outputs": [
    {
     "data": {
      "text/plain": [
       "(50000, 500)"
      ]
     },
     "execution_count": 17,
     "metadata": {},
     "output_type": "execute_result"
    }
   ],
   "source": [
    "X_train1_pca.shape"
   ]
  },
  {
   "cell_type": "code",
   "execution_count": 16,
   "metadata": {},
   "outputs": [
    {
     "data": {
      "text/plain": [
       "(10000, 500)"
      ]
     },
     "execution_count": 16,
     "metadata": {},
     "output_type": "execute_result"
    }
   ],
   "source": [
    "X_test1_pca.shape"
   ]
  },
  {
   "cell_type": "markdown",
   "metadata": {},
   "source": [
    "4 DATA -> X_train1_pca , y_train1 , X_test1_pca , y_test1"
   ]
  },
  {
   "cell_type": "markdown",
   "metadata": {},
   "source": [
    "## Training Models with Extracted Features"
   ]
  },
  {
   "cell_type": "markdown",
   "metadata": {},
   "source": [
    "### 1. K-Nearest Neigbour"
   ]
  },
  {
   "cell_type": "code",
   "execution_count": 14,
   "metadata": {},
   "outputs": [
    {
     "data": {
      "text/plain": [
       "KNeighborsClassifier()"
      ]
     },
     "execution_count": 14,
     "metadata": {},
     "output_type": "execute_result"
    }
   ],
   "source": [
    "from sklearn.neighbors import KNeighborsClassifier\n",
    "KNN_PCA = KNeighborsClassifier(n_neighbors=5)\n",
    "KNN_PCA.fit(X_train1_pca,y_train1)"
   ]
  },
  {
   "cell_type": "code",
   "execution_count": 15,
   "metadata": {},
   "outputs": [],
   "source": [
    "with open(\"knn_pca.pkl\",\"wb\") as f:\n",
    "    pickle.dump(KNN_PCA,f)"
   ]
  },
  {
   "cell_type": "code",
   "execution_count": 18,
   "metadata": {},
   "outputs": [],
   "source": [
    "knn_pred = KNN_PCA.predict(X_test1_pca)"
   ]
  },
  {
   "cell_type": "code",
   "execution_count": 27,
   "metadata": {},
   "outputs": [
    {
     "name": "stdout",
     "output_type": "stream",
     "text": [
      "Accuracy Score (KNN using PCA) : 0.3475\n",
      "Confusion matrix (KNN using PCA)\n",
      " [[551 142 117  75  67  69  21  94 140 149]\n",
      " [  5 220   3   7   2   4   1  13  14  73]\n",
      " [113  99 446 232 265 219 247 181  54  97]\n",
      " [ 15  41  48 207  34 152  69  47  34  62]\n",
      " [ 55 156 223 188 508 187 305 272  54 120]\n",
      " [  6  31  33 110  21 221  36  49  14  25]\n",
      " [ 30  63  71 112  48  82 292  65  15  55]\n",
      " [  4   9  12  22  10  12   1 214   8  30]\n",
      " [214 213  45  43  44  48  27  61 661 234]\n",
      " [  7  26   2   4   1   6   1   4   6 155]]\n"
     ]
    }
   ],
   "source": [
    "acc11 = accuracy_score(knn_pred,y_test1)\n",
    "print(\"Accuracy Score (KNN using PCA) :\",accuracy_score(knn_pred,y_test1))\n",
    "print(\"Confusion matrix (KNN using PCA)\\n\",confusion_matrix(knn_pred,y_test1))"
   ]
  },
  {
   "cell_type": "code",
   "execution_count": 28,
   "metadata": {},
   "outputs": [
    {
     "name": "stdout",
     "output_type": "stream",
     "text": [
      "Classification Report (KNN using PCA) :\n",
      "               precision    recall  f1-score   support\n",
      "\n",
      "           0       0.55      0.39      0.45      1425\n",
      "           1       0.22      0.64      0.33       342\n",
      "           2       0.45      0.23      0.30      1953\n",
      "           3       0.21      0.29      0.24       709\n",
      "           4       0.51      0.25      0.33      2068\n",
      "           5       0.22      0.40      0.29       546\n",
      "           6       0.29      0.35      0.32       833\n",
      "           7       0.21      0.66      0.32       322\n",
      "           8       0.66      0.42      0.51      1590\n",
      "           9       0.15      0.73      0.26       212\n",
      "\n",
      "    accuracy                           0.35     10000\n",
      "   macro avg       0.35      0.44      0.34     10000\n",
      "weighted avg       0.44      0.35      0.36     10000\n",
      "\n"
     ]
    }
   ],
   "source": [
    "print(\"Classification Report (KNN using PCA) :\\n\",classification_report(knn_pred,y_test1))"
   ]
  },
  {
   "cell_type": "markdown",
   "metadata": {},
   "source": [
    "### 2. Decision Tree"
   ]
  },
  {
   "cell_type": "code",
   "execution_count": 29,
   "metadata": {},
   "outputs": [],
   "source": [
    "from sklearn.tree import DecisionTreeClassifier"
   ]
  },
  {
   "cell_type": "code",
   "execution_count": 30,
   "metadata": {},
   "outputs": [
    {
     "data": {
      "text/plain": [
       "DecisionTreeClassifier()"
      ]
     },
     "execution_count": 30,
     "metadata": {},
     "output_type": "execute_result"
    }
   ],
   "source": [
    "DTC_PCA = DecisionTreeClassifier() # gini\n",
    "DTC_PCA.fit(X_train1_pca,y_train1)"
   ]
  },
  {
   "cell_type": "code",
   "execution_count": 31,
   "metadata": {},
   "outputs": [],
   "source": [
    "with open(\"dtc_pca.pkl\",\"wb\") as f:\n",
    "    pickle.dump(DTC_PCA,f)"
   ]
  },
  {
   "cell_type": "code",
   "execution_count": 32,
   "metadata": {},
   "outputs": [
    {
     "name": "stdout",
     "output_type": "stream",
     "text": [
      "Accuracy Score (Decision Tree using PCA) : 0.2459\n",
      "Confusion matrix (Decision Tree using PCA)\n",
      " [[348  87 107  78  61  52  55  78 136  90]\n",
      " [ 64 283  47  85  38  56  47  73  91 154]\n",
      " [102  58 211 118 161 122 133  81  65  64]\n",
      " [ 63  64 108 168  89 183 123  95  62  87]\n",
      " [ 56  70 134  85 224  95 129 108  44  44]\n",
      " [ 63  71 103 150  92 189 110 128  65  60]\n",
      " [ 38  54 118  94 125 109 236  89  31  54]\n",
      " [ 54  68  87 101 114  97  89 205  59 105]\n",
      " [156  84  51  60  46  52  43  64 349  96]\n",
      " [ 56 161  34  61  50  45  35  79  98 246]]\n",
      "Classification Report (Decision Tree using PCA)\n",
      "               precision    recall  f1-score   support\n",
      "\n",
      "           0       0.35      0.32      0.33      1092\n",
      "           1       0.28      0.30      0.29       938\n",
      "           2       0.21      0.19      0.20      1115\n",
      "           3       0.17      0.16      0.16      1042\n",
      "           4       0.22      0.23      0.23       989\n",
      "           5       0.19      0.18      0.19      1031\n",
      "           6       0.24      0.25      0.24       948\n",
      "           7       0.20      0.21      0.21       979\n",
      "           8       0.35      0.35      0.35      1001\n",
      "           9       0.25      0.28      0.26       865\n",
      "\n",
      "    accuracy                           0.25     10000\n",
      "   macro avg       0.25      0.25      0.25     10000\n",
      "weighted avg       0.25      0.25      0.25     10000\n",
      "\n"
     ]
    }
   ],
   "source": [
    "dtc_pred = DTC_PCA.predict(X_test1_pca)\n",
    "acc12 = accuracy_score(dtc_pred,y_test1)\n",
    "print(\"Accuracy Score (Decision Tree using PCA) :\",accuracy_score(dtc_pred,y_test1))\n",
    "print(\"Confusion matrix (Decision Tree using PCA)\\n\",confusion_matrix(dtc_pred,y_test1))\n",
    "print(\"Classification Report (Decision Tree using PCA)\\n\",classification_report(dtc_pred,y_test1))"
   ]
  },
  {
   "cell_type": "markdown",
   "metadata": {},
   "source": [
    "### 3. Naive Bayes "
   ]
  },
  {
   "cell_type": "code",
   "execution_count": 33,
   "metadata": {},
   "outputs": [],
   "source": [
    "from sklearn.naive_bayes import GaussianNB\n",
    "# since data is normally distributed"
   ]
  },
  {
   "cell_type": "code",
   "execution_count": 34,
   "metadata": {},
   "outputs": [
    {
     "data": {
      "text/plain": [
       "GaussianNB()"
      ]
     },
     "execution_count": 34,
     "metadata": {},
     "output_type": "execute_result"
    }
   ],
   "source": [
    "GNB_PCA = GaussianNB()\n",
    "GNB_PCA.fit(X_train1_pca,y_train1)"
   ]
  },
  {
   "cell_type": "code",
   "execution_count": 35,
   "metadata": {},
   "outputs": [],
   "source": [
    "with open(\"gnb_pca.pkl\",\"wb\") as f:\n",
    "    pickle.dump(GNB_PCA,f)"
   ]
  },
  {
   "cell_type": "code",
   "execution_count": 36,
   "metadata": {},
   "outputs": [
    {
     "name": "stdout",
     "output_type": "stream",
     "text": [
      "Accuracy Score (Gaussian Naive Bayes using PCA) : 0.2915\n",
      "Confusion matrix (Gaussian Naive Bayes using PCA)\n",
      " [[111  38  28  24  15  16  12  26  48  53]\n",
      " [ 85 465  58  69  39  70 124  80 115 137]\n",
      " [ 47  14 102  83  39  82  35  41  21  23]\n",
      " [ 34  65  53 134  23  88  26  54  37  69]\n",
      " [289  32 446 264 611 264 360 196 220  46]\n",
      " [ 14  22  37  83  20 133  10  47  18  24]\n",
      " [ 32  27  71  38  78  36 267  31  24  26]\n",
      " [ 55  70  40  82  61  83  37 238  32  80]\n",
      " [222 108  63  71  36  68  24  47 417 105]\n",
      " [111 159 102 152  78 160 105 240  68 437]]\n",
      "Classification Report (Gaussian Naive Bayes using PCA)\n",
      "               precision    recall  f1-score   support\n",
      "\n",
      "           0       0.11      0.30      0.16       371\n",
      "           1       0.47      0.37      0.41      1242\n",
      "           2       0.10      0.21      0.14       487\n",
      "           3       0.13      0.23      0.17       583\n",
      "           4       0.61      0.22      0.33      2728\n",
      "           5       0.13      0.33      0.19       408\n",
      "           6       0.27      0.42      0.33       630\n",
      "           7       0.24      0.31      0.27       778\n",
      "           8       0.42      0.36      0.39      1161\n",
      "           9       0.44      0.27      0.33      1612\n",
      "\n",
      "    accuracy                           0.29     10000\n",
      "   macro avg       0.29      0.30      0.27     10000\n",
      "weighted avg       0.40      0.29      0.31     10000\n",
      "\n"
     ]
    }
   ],
   "source": [
    "gnb_pred = GNB_PCA.predict(X_test1_pca)\n",
    "acc13 = accuracy_score(gnb_pred,y_test1)\n",
    "print(\"Accuracy Score (Gaussian Naive Bayes using PCA) :\",accuracy_score(gnb_pred,y_test1))\n",
    "print(\"Confusion matrix (Gaussian Naive Bayes using PCA)\\n\",confusion_matrix(gnb_pred,y_test1))\n",
    "print(\"Classification Report (Gaussian Naive Bayes using PCA)\\n\",classification_report(gnb_pred,y_test1))"
   ]
  },
  {
   "cell_type": "markdown",
   "metadata": {},
   "source": [
    "### 4. Support Vector Classifier"
   ]
  },
  {
   "cell_type": "code",
   "execution_count": 37,
   "metadata": {},
   "outputs": [],
   "source": [
    "from sklearn.svm import SVC"
   ]
  },
  {
   "cell_type": "code",
   "execution_count": null,
   "metadata": {},
   "outputs": [],
   "source": [
    "start = time.time()\n",
    "\n",
    "svc_pca = SVC(kernel=\"rbf\")\n",
    "svc_pca.fit(X_train1_pca,y_train1)\n",
    "\n",
    "end = time.time()\n",
    "print(\"Time Taken (SVM using PCA) :\",(end-start)/60,\"minutes\")"
   ]
  },
  {
   "cell_type": "code",
   "execution_count": null,
   "metadata": {},
   "outputs": [],
   "source": [
    "with open(\"svc_pca.pkl\",\"wb\") as f:\n",
    "    pickle.dump(svc_pca,f)"
   ]
  },
  {
   "cell_type": "code",
   "execution_count": null,
   "metadata": {},
   "outputs": [],
   "source": [
    "svc_pred = svc_pca.predict(X_test1_pca)\n",
    "acc14 = accuracy_score(svc_pred,y_test1)\n",
    "print(\"Accuracy Score (Support Vector Machines using PCA) :\",accuracy_score(svc_pred,y_test1))\n",
    "print(\"Confusion matrix (Support Vector Machines using PCA)\\n\",confusion_matrix(svc_pred,y_test1))\n",
    "print(\"Classification Report (Support Vector Machines using PCA)\\n\",classification_report(svc_pred,y_test1))"
   ]
  },
  {
   "cell_type": "markdown",
   "metadata": {},
   "source": [
    "### 5. Logistic Regression"
   ]
  },
  {
   "cell_type": "code",
   "execution_count": null,
   "metadata": {},
   "outputs": [],
   "source": [
    "from sklearn.linear_model import LogisticRegression\n",
    "LR_PCA = LogisticRegression(solver=\"sag\",multi_class=\"ovr\",verbose=1,n_jobs=-1) # one vs rest (ovr) , n_jobs = -1 (computation across cpu)\n",
    "lr_pca = LR_PCA.fit(X_train1_pca,y_train1)\n",
    "\n",
    "lr_pred = LR_PCA.predict(X_test1_pca)"
   ]
  },
  {
   "cell_type": "code",
   "execution_count": null,
   "metadata": {},
   "outputs": [],
   "source": [
    "with open(\"logr_pca.pkl\",\"wb\") as f:\n",
    "    pickle.dump(LR_PCA,f)"
   ]
  },
  {
   "cell_type": "code",
   "execution_count": null,
   "metadata": {},
   "outputs": [],
   "source": [
    "acc15 = accuracy_score(lr_pred,y_test1)\n",
    "print(\"Accuracy Score (Logistic Regression using PCA):\",accuracy_score(lr_pred,y_test1))\n",
    "print(\"Confusion matrix (Logistic Regression using PCA):\\n\",confusion_matrix(lr_pred,y_test1))\n",
    "print(\"Classification Report (Logistic Regression using PCA)\\n\",classification_report(lr_pred,y_test1))"
   ]
  },
  {
   "cell_type": "markdown",
   "metadata": {},
   "source": [
    "### 6. MLP Classifier "
   ]
  },
  {
   "cell_type": "code",
   "execution_count": null,
   "metadata": {},
   "outputs": [],
   "source": [
    "from sklearn.neural_network import MLPClassifier  \n",
    "MLP_PCA = MLPClassifier(hidden_layer_sizes=(150,100,50),activation=\"relu\",\n",
    "                    solver=\"adam\",learning_rate=\"constant\",learning_rate_init=0.001,\n",
    "                    max_iter=500,verbose=True)\n",
    "\n",
    "nn_pca = MLP_PCA.fit(X_train1_pca,y_train1)\n",
    "\n",
    "mlp_pred = MLP_PCA.predict(X_test1_pca)"
   ]
  },
  {
   "cell_type": "code",
   "execution_count": null,
   "metadata": {},
   "outputs": [],
   "source": [
    "with open(\"mlp_pca.pkl\",\"wb\") as f:\n",
    "    pickle.dump(MLP_PCA,f)"
   ]
  },
  {
   "cell_type": "code",
   "execution_count": null,
   "metadata": {},
   "outputs": [],
   "source": [
    "acc16 = accuracy_score(mlp_pred,y_test1)\n",
    "print(\"Accuracy Score (Multi Layer Perceptron using PCA):\",accuracy_score(mlp_pred,y_test1))\n",
    "print(\"Confusion matrix (Multi Layer Perceptron using PCA):\\n\",confusion_matrix(mlp_pred,y_test1))\n",
    "print(\"Classification Report (Multi Layer Perceptron using PCA)\\n\",classification_report(mlp_pred,y_test1))"
   ]
  },
  {
   "cell_type": "markdown",
   "metadata": {},
   "source": [
    "### 7. Random Forest Classifier"
   ]
  },
  {
   "cell_type": "code",
   "execution_count": 38,
   "metadata": {},
   "outputs": [],
   "source": [
    "from sklearn.ensemble import RandomForestClassifier\n",
    "# ensemble technique -> multiple random decision tree and take majority of it"
   ]
  },
  {
   "cell_type": "code",
   "execution_count": 39,
   "metadata": {},
   "outputs": [],
   "source": [
    "RFC_PCA = RandomForestClassifier()  # n_estimators = 100 (100 random trees)\n",
    "RFC_PCA.fit(X_train1_pca,y_train1)\n",
    "\n",
    "rfc_pred = RFC_PCA.predict(X_test1_pca)"
   ]
  },
  {
   "cell_type": "code",
   "execution_count": 40,
   "metadata": {},
   "outputs": [],
   "source": [
    "with open(\"rfc_pca.pkl\",\"wb\") as f:\n",
    "    pickle.dump(RFC_PCA,f)"
   ]
  },
  {
   "cell_type": "code",
   "execution_count": 41,
   "metadata": {},
   "outputs": [
    {
     "name": "stdout",
     "output_type": "stream",
     "text": [
      "Accuracy Score (Random Forest Classifier using PCA) : 0.3969\n",
      "Confusion matrix (Random Forest Classifier using PCA)\n",
      " [[520  37 132  55  49  46  14  58 117  61]\n",
      " [ 60 528  37  72  27  56  56  75 107 228]\n",
      " [ 50  24 243  93 169  98  97  57  14  19]\n",
      " [ 37  41  94 224  79 198  85  84  33  45]\n",
      " [ 36  17 176  72 346  75 116  85  15  12]\n",
      " [ 28  40  80 203  51 300  69  85  45  32]\n",
      " [ 18  27 108 117 149  69 466  47  13  34]\n",
      " [ 34  41  58  68  58  82  38 356  21  51]\n",
      " [168  82  43  40  44  38  30  36 557  89]\n",
      " [ 49 163  29  56  28  38  29 117  78 429]]\n",
      "Classification Report (Random Forest Classifier using PCA)\n",
      "               precision    recall  f1-score   support\n",
      "\n",
      "           0       0.52      0.48      0.50      1089\n",
      "           1       0.53      0.42      0.47      1246\n",
      "           2       0.24      0.28      0.26       864\n",
      "           3       0.22      0.24      0.23       920\n",
      "           4       0.35      0.36      0.35       950\n",
      "           5       0.30      0.32      0.31       933\n",
      "           6       0.47      0.44      0.46      1048\n",
      "           7       0.36      0.44      0.39       807\n",
      "           8       0.56      0.49      0.52      1127\n",
      "           9       0.43      0.42      0.43      1016\n",
      "\n",
      "    accuracy                           0.40     10000\n",
      "   macro avg       0.40      0.39      0.39     10000\n",
      "weighted avg       0.41      0.40      0.40     10000\n",
      "\n"
     ]
    }
   ],
   "source": [
    "acc17 = accuracy_score(rfc_pred,y_test1)\n",
    "print(\"Accuracy Score (Random Forest Classifier using PCA) :\",accuracy_score(rfc_pred,y_test1))\n",
    "print(\"Confusion matrix (Random Forest Classifier using PCA)\\n\",confusion_matrix(rfc_pred,y_test1))\n",
    "print(\"Classification Report (Random Forest Classifier using PCA)\\n\",classification_report(rfc_pred,y_test))"
   ]
  },
  {
   "cell_type": "markdown",
   "metadata": {},
   "source": [
    "### 8. ADA BOOST"
   ]
  },
  {
   "cell_type": "code",
   "execution_count": null,
   "metadata": {},
   "outputs": [],
   "source": [
    "from sklearn.ensemble import AdaBoostClassifier\n",
    "ADA_PCA = AdaBoostClassifier()\n",
    "ADA_PCA.fit(X_train1_pca,y_train1)\n",
    "\n",
    "ada_pred = ADA_PCA.predict(X_test1_pca)"
   ]
  },
  {
   "cell_type": "code",
   "execution_count": null,
   "metadata": {},
   "outputs": [],
   "source": [
    "with open(\"ada_pca.pkl\",\"wb\") as f:\n",
    "    pickle.dump(ADA_PCA,f)"
   ]
  },
  {
   "cell_type": "code",
   "execution_count": null,
   "metadata": {},
   "outputs": [],
   "source": [
    "acc18 = accuracy_score(ada_pred,y_test1)\n",
    "print(\"Accuracy Score (ADA Boosting using PCA):\",accuracy_score(ada_pred,y_test1))\n",
    "print(\"Confusion matrix (ADA Boosting using PCA):\\n\",confusion_matrix(ada_pred,y_test1))\n",
    "print(\"Classification Report (ADA Boosting using PCA)\\n\",classification_report(ada_pred,y_test1))"
   ]
  },
  {
   "cell_type": "markdown",
   "metadata": {},
   "source": [
    "### 9. XGBOOST"
   ]
  },
  {
   "cell_type": "code",
   "execution_count": 42,
   "metadata": {},
   "outputs": [],
   "source": [
    "import xgboost as xgb\n",
    "XGB_PCA = xgb.XGBClassifier(gamma=0.5, learning_rate=0.1, max_delta_step=0.1, \n",
    "                        max_depth=10, min_child_weight=1, n_estimators=100, \n",
    "                        nthread=4, objective='multi:logistic', reg_alpha=0.5, \n",
    "                        reg_lambda=0.8,subsample=0.8)\n",
    "XGB_PCA.fit(X_train1_pca,y_train1,verbose=1)\n",
    "xgb_pred = XGB_PCA.predict(X_test1_pca)"
   ]
  },
  {
   "cell_type": "code",
   "execution_count": 43,
   "metadata": {},
   "outputs": [],
   "source": [
    "with open(\"xgb_pca.pkl\",\"wb\") as f:\n",
    "    pickle.dump(XGB_PCA,f)"
   ]
  },
  {
   "cell_type": "code",
   "execution_count": 44,
   "metadata": {},
   "outputs": [
    {
     "name": "stdout",
     "output_type": "stream",
     "text": [
      "Accuracy Score (XGBoost using PCA): 0.4201\n",
      "Confusion matrix (XGBoost using PCA):\n",
      " [[547  47 108  53  56  38  17  53 154  59]\n",
      " [ 60 515  39  57  35  49  60  54  96 196]\n",
      " [ 61  23 307  96 152  82 114  49  26  17]\n",
      " [ 33  30  88 293  71 206  90  79  30  29]\n",
      " [ 15  15 134  47 326  47  81  90  13  12]\n",
      " [ 13  13  66 190  42 328  56  72  35  20]\n",
      " [ 20  31 109  95 148  76 482  42   6  27]\n",
      " [ 39  32  60  67  92  77  43 398  16  58]\n",
      " [143  72  48  31  33  48  11  37 496  73]\n",
      " [ 69 222  41  71  45  49  46 126 128 509]]\n",
      "Classification Report (XGBoost using PCA)\n",
      "               precision    recall  f1-score   support\n",
      "\n",
      "           0       0.55      0.48      0.51      1132\n",
      "           1       0.52      0.44      0.48      1161\n",
      "           2       0.31      0.33      0.32       927\n",
      "           3       0.29      0.31      0.30       949\n",
      "           4       0.33      0.42      0.37       780\n",
      "           5       0.33      0.39      0.36       835\n",
      "           6       0.48      0.47      0.47      1036\n",
      "           7       0.40      0.45      0.42       882\n",
      "           8       0.50      0.50      0.50       992\n",
      "           9       0.51      0.39      0.44      1306\n",
      "\n",
      "    accuracy                           0.42     10000\n",
      "   macro avg       0.42      0.42      0.42     10000\n",
      "weighted avg       0.43      0.42      0.42     10000\n",
      "\n"
     ]
    }
   ],
   "source": [
    "acc19 = accuracy_score(xgb_pred,y_test1)\n",
    "print(\"Accuracy Score (XGBoost using PCA):\",accuracy_score(xgb_pred,y_test1))\n",
    "print(\"Confusion matrix (XGBoost using PCA):\\n\",confusion_matrix(xgb_pred,y_test1))\n",
    "print(\"Classification Report (XGBoost using PCA)\\n\",classification_report(xgb_pred,y_test1))"
   ]
  },
  {
   "cell_type": "markdown",
   "metadata": {},
   "source": [
    "# PERFORMANCE (PCA MODELS)"
   ]
  },
  {
   "cell_type": "code",
   "execution_count": 14,
   "metadata": {},
   "outputs": [],
   "source": [
    "models = [\"KNeighbors\\nClassifier\",\"DecisionTree\\nClassifier\",\"GaussianNB\",\"Support Vector\\nClassifier\",\"Logistic\\nRegression\",\"Multi-Layer\\nPerceptron\",\"Random Forest\\nClassifier\",\"Ada Boost\",\"XG Boost\"]"
   ]
  },
  {
   "cell_type": "code",
   "execution_count": 15,
   "metadata": {},
   "outputs": [
    {
     "name": "stdout",
     "output_type": "stream",
     "text": [
      "Loaded ..\n",
      "Predicted ..\n"
     ]
    }
   ],
   "source": [
    "with open(\"knn_pca.pkl\",\"rb\") as f:\n",
    "    knn = pickle.load(f)\n",
    "with open(\"dtc_pca.pkl\",\"rb\") as f:\n",
    "    dtc = pickle.load(f)\n",
    "with open(\"gnb_pca.pkl\",\"rb\") as f:\n",
    "    gnb = pickle.load(f)\n",
    "with open(\"svc_pca.pkl\",\"rb\") as f:\n",
    "    svc = pickle.load(f)\n",
    "with open(\"logr_pca.pkl\",\"rb\") as f:\n",
    "    lr = pickle.load(f)\n",
    "with open(\"mlp_pca.pkl\",\"rb\") as f:\n",
    "    mlp = pickle.load(f)\n",
    "with open(\"rfc_pca.pkl\",\"rb\") as f:\n",
    "    rfc = pickle.load(f)\n",
    "with open(\"ada_pca.pkl\",\"rb\") as f:\n",
    "    ada = pickle.load(f)\n",
    "with open(\"xgb_pca.pkl\",\"rb\") as f:\n",
    "    XGB = pickle.load(f)\n",
    "\n",
    "print(\"Loaded ..\")\n",
    "\n",
    "knn_pred = knn.predict(X_test1_pca)\n",
    "dtc_pred = dtc.predict(X_test1_pca)\n",
    "gnb_pred = gnb.predict(X_test1_pca)\n",
    "svc_pred = svc.predict(X_test1_pca)\n",
    "lr_pred = lr.predict(X_test1_pca)\n",
    "mlp_pred = mlp.predict(X_test1_pca)\n",
    "rfc_pred = rfc.predict(X_test1_pca)\n",
    "ada_pred = ada.predict(X_test1_pca)\n",
    "xgb_pred = XGB.predict(X_test1_pca)\n",
    "\n",
    "print(\"Predicted ..\")\n",
    "\n",
    "acc11 = accuracy_score(knn_pred,y_test1)\n",
    "acc12 = accuracy_score(dtc_pred,y_test1)\n",
    "acc13 = accuracy_score(gnb_pred,y_test1)\n",
    "acc14 = accuracy_score(svc_pred,y_test1)\n",
    "acc15 = accuracy_score(lr_pred,y_test1)\n",
    "acc16 = accuracy_score(mlp_pred,y_test1)\n",
    "acc17 = accuracy_score(rfc_pred,y_test1)\n",
    "acc18 = accuracy_score(ada_pred,y_test1)\n",
    "acc19 = accuracy_score(xgb_pred,y_test1)"
   ]
  },
  {
   "cell_type": "code",
   "execution_count": 17,
   "metadata": {},
   "outputs": [],
   "source": [
    "accuracy = [acc11,acc12,acc13,acc14,acc15,acc16,acc17,acc18,acc19]\n",
    "accuracy\n",
    "with open(\"accuracy_pca.pkl\",\"wb\") as f:\n",
    "    pickle.dump(accuracy,f)"
   ]
  },
  {
   "cell_type": "code",
   "execution_count": 49,
   "metadata": {},
   "outputs": [
    {
     "data": {
      "image/png": "[encoded data removed]",
      "text/plain": [
       "<Figure size 936x648 with 1 Axes>"
      ]
     },
     "metadata": {
      "needs_background": "light"
     },
     "output_type": "display_data"
    }
   ],
   "source": [
    "plt.figure(figsize=(13,9))\n",
    "plt.bar(models,accuracy,width=0.5,color = [\"g\",\"r\",\"b\",\"y\",\"c\",\"m\",\"g\",\"r\",\"b\"])\n",
    "for i in range(len(accuracy)):\n",
    "    plt.text(i,accuracy[i],str(round(accuracy[i]*100))+\"%\",ha=\"center\",va=\"bottom\") # (x_coord,y_coord,value,)\n",
    "plt.xlabel(\"Models\")\n",
    "plt.ylabel(\"Accuracy\")\n",
    "plt.title(\"Performance (PCA MODELS)\")\n",
    "plt.show()"
   ]
  }
 ],
 "metadata": {
  "kernelspec": {
   "display_name": "Python 3.9.7 ('base')",
   "language": "python",
   "name": "python3"
  },
  "language_info": {
   "codemirror_mode": {
    "name": "ipython",
    "version": 3
   },
   "file_extension": ".py",
   "mimetype": "text/x-python",
   "name": "python",
   "nbconvert_exporter": "python",
   "pygments_lexer": "ipython3",
   "version": "3.9.7"
  },
  "orig_nbformat": 4,
  "vscode": {
   "interpreter": {
    "hash": "245b9fdd41826652eab311a2b791c6ecb0e15947c319e7e2516aa9c02c583d40"
   }
  }
 },
 "nbformat": 4,
 "nbformat_minor": 2
}
