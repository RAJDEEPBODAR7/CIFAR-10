{
 "cells": [
  {
   "cell_type": "markdown",
   "metadata": {},
   "source": [
    "## FEATURE EXTRACTION USING AUTOENCODER"
   ]
  },
  {
   "cell_type": "markdown",
   "metadata": {},
   "source": [
    "### UNSUPERVISED NEURAL NETWORK\n",
    "input -> encoder (It learns how to efficiently compress and encode the data) -> \"code\" ->  decoder (It learns how to reconstructs the data representation) -> output (which is almost same as input image / both have same size)"
   ]
  },
  {
   "cell_type": "markdown",
   "metadata": {},
   "source": [
    "to remove unnecessary details to reduce dimension space & to learn relevant features of image"
   ]
  },
  {
   "cell_type": "markdown",
   "metadata": {},
   "source": [
    "![alt text](autoencoders.png \"Title\")"
   ]
  },
  {
   "cell_type": "markdown",
   "metadata": {},
   "source": [
    "![alt text](encoderpipeline.png \"Title\")"
   ]
  },
  {
   "cell_type": "code",
   "execution_count": 36,
   "metadata": {},
   "outputs": [],
   "source": [
    "from matplotlib import pyplot as plt\n",
    "import numpy as np\n",
    "from keras.datasets import cifar10\n",
    "from sklearn.metrics import accuracy_score,confusion_matrix,classification_report\n",
    "import pickle\n",
    "from keras.layers import Input,Dense,Conv2D,MaxPooling2D,UpSampling2D,BatchNormalization,Dropout\n",
    "from keras.models import Model,load_model\n",
    "from keras.callbacks import EarlyStopping,ModelCheckpoint\n",
    "from tensorflow.keras.optimizers import Adam"
   ]
  },
  {
   "cell_type": "code",
   "execution_count": 2,
   "metadata": {},
   "outputs": [],
   "source": [
    "classLabel = [\"airplane\",\"automobile\",\"bird\",\"cat\",\"deer\",\"dog\",\"frog\",\"horse\",\"ship\",\"truck\"]\n",
    "(X_train,y_train),(X_test,y_test) = cifar10.load_data()"
   ]
  },
  {
   "cell_type": "code",
   "execution_count": 3,
   "metadata": {},
   "outputs": [],
   "source": [
    "# since every value in image is ranging from 0 to 255, need to normalize the data to uniform range of 0-1 , diving by 255\n",
    "X_train = X_train.astype(\"float32\")\n",
    "X_test = X_test.astype(\"float32\")\n",
    "X_train = X_train/255\n",
    "X_test = X_test/255"
   ]
  },
  {
   "cell_type": "code",
   "execution_count": 13,
   "metadata": {},
   "outputs": [
    {
     "name": "stdout",
     "output_type": "stream",
     "text": [
      "(50000, 32, 32, 3) (10000, 32, 32, 3)\n"
     ]
    }
   ],
   "source": [
    "print(X_train.shape,X_test.shape)"
   ]
  },
  {
   "cell_type": "code",
   "execution_count": 44,
   "metadata": {},
   "outputs": [
    {
     "name": "stdout",
     "output_type": "stream",
     "text": [
      "Model: \"model_9\"\n",
      "_________________________________________________________________\n",
      " Layer (type)                Output Shape              Param #   \n",
      "=================================================================\n",
      " input_10 (InputLayer)       [(None, 32, 32, 3)]       0         \n",
      "                                                                 \n",
      " conv2d_60 (Conv2D)          (None, 32, 32, 256)       7168      \n",
      "                                                                 \n",
      " max_pooling2d_18 (MaxPoolin  (None, 16, 16, 256)      0         \n",
      " g2D)                                                            \n",
      "                                                                 \n",
      " conv2d_61 (Conv2D)          (None, 16, 16, 128)       295040    \n",
      "                                                                 \n",
      " encoded_layer (MaxPooling2D  (None, 8, 8, 128)        0         \n",
      " )                                                               \n",
      "                                                                 \n",
      " conv2d_62 (Conv2D)          (None, 8, 8, 128)         147584    \n",
      "                                                                 \n",
      " up_sampling2d_20 (UpSamplin  (None, 16, 16, 128)      0         \n",
      " g2D)                                                            \n",
      "                                                                 \n",
      " conv2d_63 (Conv2D)          (None, 16, 16, 256)       295168    \n",
      "                                                                 \n",
      " up_sampling2d_21 (UpSamplin  (None, 32, 32, 256)      0         \n",
      " g2D)                                                            \n",
      "                                                                 \n",
      " conv2d_64 (Conv2D)          (None, 32, 32, 3)         6915      \n",
      "                                                                 \n",
      "=================================================================\n",
      "Total params: 751,875\n",
      "Trainable params: 751,875\n",
      "Non-trainable params: 0\n",
      "_________________________________________________________________\n"
     ]
    }
   ],
   "source": [
    "checkpointer = ModelCheckpoint(\"save/autoencoder.hdf5\", verbose=0, save_best_only=True) # save best model\n",
    "earlyStop = EarlyStopping(monitor='val_loss', min_delta=1e-4, patience=5, verbose=1, mode='auto')\n",
    "# convulational layers\n",
    "# input = Input(shape=(32,32,3))   # 32,32,3\n",
    "\n",
    "# # encoder\n",
    "# x = Conv2D(64,(3,3),activation=\"relu\",padding=\"same\") (input)  \n",
    "# x = MaxPooling2D((2,2))(x)  # reduces dimension / downsampling  \n",
    "\n",
    "# x = Conv2D(32,(3,3),activation=\"relu\",padding=\"same\") (x)   \n",
    "# x = MaxPooling2D((2,2))(x)\n",
    "\n",
    "# x = Conv2D(16,(3,3),activation=\"relu\",padding=\"same\") (x)\n",
    "# # x = MaxPooling2D((2,2))(x)\n",
    "\n",
    "# x = Conv2D(8,(3,3),activation=\"relu\",padding=\"same\") (x)  # 8 x 8\n",
    "# encoded = MaxPooling2D((2,2),padding=\"same\",name=\"encoded_layer\")(x)  # bottleneck\n",
    "\n",
    "\n",
    "# # decoder\n",
    "# x = Conv2D(8,(3,3),activation=\"relu\",padding=\"same\") (encoded)\n",
    "# x = UpSampling2D((2,2))(x)\n",
    "\n",
    "# x = Conv2D(16,(3,3),activation=\"relu\",padding=\"same\") (x)\n",
    "# x = UpSampling2D((2,2))(x)\n",
    "\n",
    "# x = Conv2D(32,(3,3),activation=\"relu\",padding=\"same\") (x)\n",
    "# x = UpSampling2D((2,2))(x)\n",
    "\n",
    "# reconstruct = Conv2D(64,(3,3),activation=\"relu\",padding=\"same\") (x)\n",
    "\n",
    "# decoded = Conv2D(3,(3,3),padding=\"same\") (reconstruct)\n",
    "\n",
    "# autoencoder = Model(input,decoded)\n",
    "# autoencoder.compile(optimizer=\"adam\",loss=\"mse\",metrics=[\"accuracy\"])\n",
    "# autoencoder.summary()\n",
    "\n",
    "input_image = Input(shape=(32,32,3))\n",
    "\n",
    "# Encoder\n",
    "x = Conv2D(256, (3, 3), activation='relu', padding='same')(input_image)\n",
    "x = MaxPooling2D((2, 2), padding='same')(x)\n",
    "\n",
    "x = Conv2D(128, (3, 3), activation='relu', padding='same')(x)\n",
    "encoded = MaxPooling2D((2, 2), padding='same', name='encoded_layer')(x)\n",
    "\n",
    "# Decoder\n",
    "x = Conv2D(128, (3, 3), activation='relu', padding='same')(encoded)\n",
    "x = UpSampling2D((2, 2))(x)\n",
    "\n",
    "x = Conv2D(256, (3, 3), activation='relu', padding='same')(x)\n",
    "x = UpSampling2D((2, 2))(x)\n",
    "\n",
    "decoded = Conv2D(3, (3, 3), padding='same')(x)\n",
    "\n",
    "autoencoder = Model(input_image, decoded)\n",
    "autoencoder.compile(optimizer=Adam(learning_rate=0.001), loss='mse',metrics=[\"accuracy\"])\n",
    "autoencoder.summary()"
   ]
  },
  {
   "cell_type": "code",
   "execution_count": null,
   "metadata": {},
   "outputs": [],
   "source": [
    "history = autoencoder.fit(X_train,X_train, validation_split=0.2, callbacks=[earlyStop,checkpointer],verbose=1,epochs=50, batch_size=256, shuffle=True)"
   ]
  },
  {
   "cell_type": "code",
   "execution_count": 21,
   "metadata": {},
   "outputs": [
    {
     "data": {
      "image/png": "[encoded data removed]",
      "text/plain": [
       "<Figure size 432x288 with 1 Axes>"
      ]
     },
     "metadata": {
      "needs_background": "light"
     },
     "output_type": "display_data"
    }
   ],
   "source": [
    "# plot summarize history for loss\n",
    "plt.plot(history.history['loss'])\n",
    "plt.plot(history.history['val_loss'])\n",
    "plt.title('model loss')\n",
    "plt.ylabel('loss')  \n",
    "plt.xlabel('epoch')\n",
    "plt.legend(['train', 'val'])\n",
    "plt.show()"
   ]
  },
  {
   "cell_type": "code",
   "execution_count": 22,
   "metadata": {},
   "outputs": [
    {
     "name": "stdout",
     "output_type": "stream",
     "text": [
      "Model: \"model_4\"\n",
      "_________________________________________________________________\n",
      " Layer (type)                Output Shape              Param #   \n",
      "=================================================================\n",
      " input_5 (InputLayer)        [(None, 32, 32, 3)]       0         \n",
      "                                                                 \n",
      " conv2d_31 (Conv2D)          (None, 32, 32, 64)        1792      \n",
      "                                                                 \n",
      " max_pooling2d_12 (MaxPoolin  (None, 16, 16, 64)       0         \n",
      " g2D)                                                            \n",
      "                                                                 \n",
      " conv2d_32 (Conv2D)          (None, 16, 16, 32)        18464     \n",
      "                                                                 \n",
      " max_pooling2d_13 (MaxPoolin  (None, 8, 8, 32)         0         \n",
      " g2D)                                                            \n",
      "                                                                 \n",
      " conv2d_33 (Conv2D)          (None, 8, 8, 16)          4624      \n",
      "                                                                 \n",
      " conv2d_34 (Conv2D)          (None, 8, 8, 8)           1160      \n",
      "                                                                 \n",
      " encoded_layer (MaxPooling2D  (None, 4, 4, 8)          0         \n",
      " )                                                               \n",
      "                                                                 \n",
      "=================================================================\n",
      "Total params: 26,040\n",
      "Trainable params: 26,040\n",
      "Non-trainable params: 0\n",
      "_________________________________________________________________\n"
     ]
    }
   ],
   "source": [
    "model = load_model(\"save/autoencoder.hdf5\")\n",
    "encoder = Model(inputs=model.input,outputs=model.get_layer('encoded_layer').output)\n",
    "\n",
    "encoder.summary()"
   ]
  },
  {
   "cell_type": "code",
   "execution_count": 24,
   "metadata": {},
   "outputs": [],
   "source": [
    "new_X_train = encoder.predict(X_train)\n",
    "new_X_test = encoder.predict(X_test)"
   ]
  },
  {
   "cell_type": "code",
   "execution_count": 25,
   "metadata": {},
   "outputs": [
    {
     "name": "stdout",
     "output_type": "stream",
     "text": [
      "(50000, 4, 4, 8) (10000, 4, 4, 8)\n"
     ]
    }
   ],
   "source": [
    "print(new_X_train.shape,new_X_test.shape) "
   ]
  },
  {
   "cell_type": "code",
   "execution_count": 26,
   "metadata": {},
   "outputs": [
    {
     "name": "stdout",
     "output_type": "stream",
     "text": [
      "(50000, 128)\n",
      "(10000, 128)\n"
     ]
    }
   ],
   "source": [
    "X_train1 = new_X_train.reshape((len(X_train),-1))\n",
    "print(X_train1.shape)\n",
    "X_test1 = new_X_test.reshape((len(X_test),-1))\n",
    "print(X_test1.shape)"
   ]
  },
  {
   "cell_type": "code",
   "execution_count": 27,
   "metadata": {},
   "outputs": [
    {
     "name": "stdout",
     "output_type": "stream",
     "text": [
      "(50000,)\n",
      "(10000,)\n"
     ]
    }
   ],
   "source": [
    "y_train1 = y_train.flatten()\n",
    "print(y_train1.shape)\n",
    "y_test1 = y_test.flatten()\n",
    "print(y_test1.shape)"
   ]
  },
  {
   "cell_type": "markdown",
   "metadata": {},
   "source": [
    "## SVM on AUTOENCODER"
   ]
  },
  {
   "cell_type": "code",
   "execution_count": 33,
   "metadata": {},
   "outputs": [],
   "source": [
    "from sklearn.svm import SVC\n",
    "import time"
   ]
  },
  {
   "cell_type": "code",
   "execution_count": 34,
   "metadata": {},
   "outputs": [
    {
     "name": "stdout",
     "output_type": "stream",
     "text": [
      "Time Taken (SVM using Autoencoder) : 7.752304844061533 minutes\n"
     ]
    }
   ],
   "source": [
    "start = time.time()\n",
    "\n",
    "svc_enc = SVC(kernel=\"rbf\")\n",
    "svc_enc.fit(X_train1,y_train1)\n",
    "\n",
    "end = time.time()\n",
    "print(\"Time Taken (SVM using Autoencoder) :\",(end-start)/60,\"minutes\")"
   ]
  },
  {
   "cell_type": "code",
   "execution_count": 35,
   "metadata": {},
   "outputs": [
    {
     "name": "stdout",
     "output_type": "stream",
     "text": [
      "Accuracy Score (Support Vector Machines using Autoencoder) : 0.4826\n",
      "Confusion matrix (Support Vector Machines using Autoencoder)\n",
      " [[546  35  98  31  44  26   5  45  90  41]\n",
      " [ 36 582  26  29  19  26  18  27  67 169]\n",
      " [ 63  29 340  83 147  99  92  56  16  14]\n",
      " [ 23  28  92 336  61 185  73  76  23  37]\n",
      " [ 19  11 132  64 384  70 105 111  17  15]\n",
      " [ 14  30  60 166  45 363  49  63  28  24]\n",
      " [ 27  27 147 148 174  94 607  57  14  30]\n",
      " [ 31  30  57  50  77  74  25 460  20  40]\n",
      " [187  68  34  34  33  35  13  29 649  71]\n",
      " [ 54 160  14  59  16  28  13  76  76 559]]\n",
      "Classification Report (Support Vector Machines using Autoencoder)\n",
      "               precision    recall  f1-score   support\n",
      "\n",
      "           0       0.55      0.57      0.56       961\n",
      "           1       0.58      0.58      0.58       999\n",
      "           2       0.34      0.36      0.35       939\n",
      "           3       0.34      0.36      0.35       934\n",
      "           4       0.38      0.41      0.40       928\n",
      "           5       0.36      0.43      0.39       842\n",
      "           6       0.61      0.46      0.52      1325\n",
      "           7       0.46      0.53      0.49       864\n",
      "           8       0.65      0.56      0.60      1153\n",
      "           9       0.56      0.53      0.54      1055\n",
      "\n",
      "    accuracy                           0.48     10000\n",
      "   macro avg       0.48      0.48      0.48     10000\n",
      "weighted avg       0.49      0.48      0.49     10000\n",
      "\n"
     ]
    }
   ],
   "source": [
    "svc_pred = svc_enc.predict(X_test1)\n",
    "acc20 = accuracy_score(svc_pred,y_test1)\n",
    "print(\"Accuracy Score (Support Vector Machines using Autoencoder) :\",accuracy_score(svc_pred,y_test1))\n",
    "print(\"Confusion matrix (Support Vector Machines using Autoencoder)\\n\",confusion_matrix(svc_pred,y_test1))\n",
    "print(\"Classification Report (Support Vector Machines using Autoencoder)\\n\",classification_report(svc_pred,y_test1))"
   ]
  }
 ],
 "metadata": {
  "kernelspec": {
   "display_name": "Python 3.9.7 ('base')",
   "language": "python",
   "name": "python3"
  },
  "language_info": {
   "codemirror_mode": {
    "name": "ipython",
    "version": 3
   },
   "file_extension": ".py",
   "mimetype": "text/x-python",
   "name": "python",
   "nbconvert_exporter": "python",
   "pygments_lexer": "ipython3",
   "version": "3.9.7"
  },
  "orig_nbformat": 4,
  "vscode": {
   "interpreter": {
    "hash": "245b9fdd41826652eab311a2b791c6ecb0e15947c319e7e2516aa9c02c583d40"
   }
  }
 },
 "nbformat": 4,
 "nbformat_minor": 2
}
