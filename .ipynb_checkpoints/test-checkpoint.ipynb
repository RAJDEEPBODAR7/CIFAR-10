{
 "cells": [
  {
   "cell_type": "code",
   "execution_count": 1,
   "id": "a5551806",
   "metadata": {},
   "outputs": [],
   "source": [
    "from sklearn.svm import SVC\n",
    "from keras.datasets import cifar10 \n",
    "import pickle\n",
    "import time\n",
    "from sklearn.metrics import accuracy_score"
   ]
  },
  {
   "cell_type": "code",
   "execution_count": 8,
   "id": "923b16f3",
   "metadata": {},
   "outputs": [],
   "source": [
    "(X_train,y_train),(X_test,y_test) = cifar10.load_data()\n",
    "\n",
    "X_train=X_train/255\n",
    "X_test=X_test/255\n",
    "\n",
    "X_train1 = X_train.reshape((len(X_train),-1))\n",
    "X_test1 = X_test.reshape((len(X_test),-1))\n",
    "\n",
    "y_train1 = y_train.flatten()\n",
    "y_test1 = y_test.flatten()\n",
    "\n",
    "with open(\"rfc.pkl\",\"rb\") as f:\n",
    "    rfc = pickle.load(f)"
   ]
  },
  {
   "cell_type": "code",
   "execution_count": 9,
   "id": "e836f92a",
   "metadata": {},
   "outputs": [
    {
     "data": {
      "text/plain": [
       "RandomForestClassifier()"
      ]
     },
     "execution_count": 9,
     "metadata": {},
     "output_type": "execute_result"
    }
   ],
   "source": [
    "rfc"
   ]
  },
  {
   "cell_type": "code",
   "execution_count": 10,
   "id": "2b8eb27c",
   "metadata": {},
   "outputs": [
    {
     "name": "stdout",
     "output_type": "stream",
     "text": [
      "0.4711\n",
      "time : 0.011656113465627034\n"
     ]
    }
   ],
   "source": [
    "start = time.time()\n",
    "pred = rfc.predict(X_test1)\n",
    "end = time.time()\n",
    "print(accuracy_score(pred,y_test1))\n",
    "print(f\"time : {(end-start)/60}\")"
   ]
  }
 ],
 "metadata": {
  "kernelspec": {
   "display_name": "Python 3 (ipykernel)",
   "language": "python",
   "name": "python3"
  },
  "language_info": {
   "codemirror_mode": {
    "name": "ipython",
    "version": 3
   },
   "file_extension": ".py",
   "mimetype": "text/x-python",
   "name": "python",
   "nbconvert_exporter": "python",
   "pygments_lexer": "ipython3",
   "version": "3.9.7"
  }
 },
 "nbformat": 4,
 "nbformat_minor": 5
}
